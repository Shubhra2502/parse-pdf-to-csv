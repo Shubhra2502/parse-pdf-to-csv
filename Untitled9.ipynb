{
 "cells": [
  {
   "cell_type": "code",
   "execution_count": 5,
   "id": "993ffea8",
   "metadata": {},
   "outputs": [],
   "source": [
    "import csv\n",
    "import PyPDF2\n",
    "\n",
    "\n",
    "\n"
   ]
  },
  {
   "cell_type": "code",
   "execution_count": 6,
   "id": "3f95458f",
   "metadata": {},
   "outputs": [],
   "source": [
    "def extract_text_from_pdf(pdf_path):\n",
    "    pdf_file = open(pdf_path, 'rb')\n",
    "    pdf_reader = PyPDF2.PdfReader(pdf_file)\n",
    "\n",
    "    text_data = []\n",
    "    for page in pdf_reader.pages:\n",
    "        text_data.append(page.extract_text())\n",
    "\n",
    "    pdf_file.close()\n",
    "    return text_data\n"
   ]
  },
  {
   "cell_type": "code",
   "execution_count": 7,
   "id": "bd157fe7",
   "metadata": {},
   "outputs": [],
   "source": [
    "def write_to_csv(data, csv_path):\n",
    "    with open(csv_path, 'w', newline='') as csv_file:\n",
    "        writer = csv.writer(csv_file)\n",
    "        for row in data:\n",
    "            writer.writerow([row])"
   ]
  },
  {
   "cell_type": "code",
   "execution_count": 8,
   "id": "bdfeb624",
   "metadata": {},
   "outputs": [],
   "source": [
    "\n",
    "pdf_path = '/Users/shubhrasaxena/Downloads/2023071446.pdf'\n",
    "\n",
    "\n",
    "extracted_data = extract_text_from_pdf(pdf_path)\n",
    "\n",
    "\n",
    "csv_path = '/Users/shubhrasaxena/Downloads/new.csv'\n",
    "\n",
    "write_to_csv(extracted_data, csv_path)\n"
   ]
  },
  {
   "cell_type": "code",
   "execution_count": null,
   "id": "5015d3a7",
   "metadata": {},
   "outputs": [],
   "source": []
  }
 ],
 "metadata": {
  "kernelspec": {
   "display_name": "Python 3 (ipykernel)",
   "language": "python",
   "name": "python3"
  },
  "language_info": {
   "codemirror_mode": {
    "name": "ipython",
    "version": 3
   },
   "file_extension": ".py",
   "mimetype": "text/x-python",
   "name": "python",
   "nbconvert_exporter": "python",
   "pygments_lexer": "ipython3",
   "version": "3.9.12"
  }
 },
 "nbformat": 4,
 "nbformat_minor": 5
}
